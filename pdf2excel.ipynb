{
 "cells": [
  {
   "cell_type": "code",
   "execution_count": 8,
   "metadata": {
    "dotnet_interactive": {
     "language": "csharp"
    }
   },
   "outputs": [],
   "source": [
    "import os\n",
    "\n",
    "import requests\n",
    "import pdfplumber\n",
    "def download_file(url):\n",
    "    local_filename = url.split('/')[-1]\n",
    "    \n",
    "    with requests.get(url) as r:\n",
    "        assert r.status_code == 200, f'error, status code is {r.status_code}'\n",
    "        with open(local_filename, 'wb') as f:\n",
    "            f.write(r.content)\n",
    "        \n",
    "    return local_filename"
   ]
  },
  {
   "cell_type": "code",
   "execution_count": 9,
   "metadata": {
    "dotnet_interactive": {
     "language": "csharp"
    }
   },
   "outputs": [
    {
     "name": "stdout",
     "output_type": "stream",
     "text": [
      "\n"
     ]
    }
   ],
   "source": [
    "invoice = 'receipt.pdf'\n",
    "#invoice_pdf = download_file(invoice)\n",
    "\n",
    "#invoice_pdf\n",
    "\n",
    "with pdfplumber.open(invoice) as pdf:\n",
    "    page = pdf.pages[0]\n",
    "    text = page.extract_text()\n",
    "    print(text)"
   ]
  },
  {
   "cell_type": "code",
   "execution_count": 10,
   "metadata": {
    "dotnet_interactive": {
     "language": "csharp"
    }
   },
   "outputs": [
    {
     "data": {
      "text/plain": [
       "0"
      ]
     },
     "execution_count": 10,
     "metadata": {},
     "output_type": "execute_result"
    }
   ],
   "source": [
    "import ocrmypdf\n",
    "# should output 0\n",
    "os.system(f'ocrmypdf {invoice} output.pdf')"
   ]
  },
  {
   "cell_type": "code",
   "execution_count": 11,
   "metadata": {
    "dotnet_interactive": {
     "language": "csharp"
    }
   },
   "outputs": [
    {
     "name": "stdout",
     "output_type": "stream",
     "text": [
      "Castle \n",
      "White  Castle  #010029 \n",
      "Sale  #  143710882 \n",
      "Team  Member  #884 \n",
      "Jan  31,  2017  Tuesday  12:43:53  pm \n",
      "¥**  Drive-thru  ***  Register  #  4 \n",
      ">  1  PACK  9 \n",
      "*  Pack  9  Disc  2.47 \n",
      "*  20  CBR  18.60 \n",
      "*  49  FF  6.76 \n",
      "2  FISH  CH  3.18 \n",
      "2  CKN  CH  3.38 \n",
      "1  SENIOR  DISC \n",
      "SENIOR  DISCOUNT  =2,99 \n",
      "2.65 \n",
      "=  29.15 \n",
      "Crecit  Card  29.15 \n",
      "You  savec  5.42\n",
      "  \n"
     ]
    }
   ],
   "source": [
    "\n",
    "with pdfplumber.open('output.pdf') as pdf:\n",
    "    page = pdf.pages[0]\n",
    "    text = page.extract_text(x_tolerance=2)\n",
    "    print(text)"
   ]
  },
  {
   "cell_type": "code",
   "execution_count": 12,
   "metadata": {
    "dotnet_interactive": {
     "language": "csharp"
    }
   },
   "outputs": [
    {
     "data": {
      "text/plain": [
       "['Castle ',\n",
       " 'White  Castle  #010029 ',\n",
       " 'Sale  #  143710882 ',\n",
       " 'Team  Member  #884 ',\n",
       " 'Jan  31,  2017  Tuesday  12:43:53  pm ',\n",
       " '¥**  Drive-thru  ***  Register  #  4 ',\n",
       " '>  1  PACK  9 ',\n",
       " '*  Pack  9  Disc  2.47 ',\n",
       " '*  20  CBR  18.60 ',\n",
       " '*  49  FF  6.76 ',\n",
       " '2  FISH  CH  3.18 ',\n",
       " '2  CKN  CH  3.38 ',\n",
       " '1  SENIOR  DISC ',\n",
       " 'SENIOR  DISCOUNT  =2,99 ',\n",
       " '2.65 ',\n",
       " '=  29.15 ',\n",
       " 'Crecit  Card  29.15 ',\n",
       " 'You  savec  5.42',\n",
       " '  ']"
      ]
     },
     "execution_count": 12,
     "metadata": {},
     "output_type": "execute_result"
    }
   ],
   "source": [
    "lines = text.split('\\n')\n",
    "\n",
    "lines"
   ]
  },
  {
   "cell_type": "code",
   "execution_count": 15,
   "metadata": {
    "dotnet_interactive": {
     "language": "csharp"
    }
   },
   "outputs": [
    {
     "data": {
      "text/plain": [
       "5.42"
      ]
     },
     "execution_count": 15,
     "metadata": {},
     "output_type": "execute_result"
    }
   ],
   "source": [
    "import re\n",
    "\n",
    "amt_re = re.compile(r'\\.\\d\\d$')\n",
    "\n",
    "subt = 0\n",
    "\n",
    "for line in lines:\n",
    "    if 'SUBTOTAL' in line:\n",
    "        break\n",
    "    if amt_re.search(line):\n",
    "        subt += float(line.split()[-1].replace(',', '').replace('$', ''))\n",
    "\n",
    "subt"
   ]
  },
  {
   "cell_type": "code",
   "execution_count": 16,
   "metadata": {
    "dotnet_interactive": {
     "language": "csharp"
    }
   },
   "outputs": [
    {
     "data": {
      "text/plain": [
       "['Castle ',\n",
       " 'White  Castle  #010029 ',\n",
       " 'Sale  #  143710882 ',\n",
       " 'Team  Member  #884 ',\n",
       " 'Jan  31,  2017  Tuesday  12:43:53  pm ',\n",
       " '¥**  Drive-thru  ***  Register  #  4 ',\n",
       " '>  1  PACK  9 ',\n",
       " '*  Pack  9  Disc  2.47 ',\n",
       " '*  20  CBR  18.60 ',\n",
       " '*  49  FF  6.76 ',\n",
       " '2  FISH  CH  3.18 ',\n",
       " '2  CKN  CH  3.38 ',\n",
       " '1  SENIOR  DISC ',\n",
       " 'SENIOR  DISCOUNT  =2,99 ',\n",
       " '2.65 ',\n",
       " '=  29.15 ',\n",
       " 'Crecit  Card  29.15 ',\n",
       " 'You  savec  5.42',\n",
       " '  ']"
      ]
     },
     "execution_count": 16,
     "metadata": {},
     "output_type": "execute_result"
    }
   ],
   "source": [
    "lines"
   ]
  }
 ],
 "metadata": {
  "interpreter": {
   "hash": "605801abee6af3da22b3d36c409e2e472ae4fe6373a00d3bff07b054a2f34ed7"
  },
  "kernelspec": {
   "display_name": "Python 3.9.7 ('base')",
   "language": "python",
   "name": "python3"
  },
  "language_info": {
   "codemirror_mode": {
    "name": "ipython",
    "version": 3
   },
   "file_extension": ".py",
   "mimetype": "text/x-python",
   "name": "python",
   "nbconvert_exporter": "python",
   "pygments_lexer": "ipython3",
   "version": "3.9.7"
  },
  "orig_nbformat": 4
 },
 "nbformat": 4,
 "nbformat_minor": 2
}
